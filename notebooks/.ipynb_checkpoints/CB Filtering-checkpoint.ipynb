{
 "cells": [
  {
   "cell_type": "markdown",
   "metadata": {},
   "source": [
    "# Content Based Filtering\n",
    "\n",
    "The simplest form of Collaborative Filtering model is a Content Based Filtering model. In this model, we create a profile for every user based on the items that they have already rated and project both the user and the item in a shared space.\n",
    "\n",
    "Once we have a user profile, we could use it to perform dot-product with different item representations and come up with a nearest neighbour search algorithm."
   ]
  },
  {
   "cell_type": "code",
   "execution_count": 1,
   "metadata": {},
   "outputs": [],
   "source": [
    "import pandas as pd\n",
    "import numpy as np\n",
    "import random\n",
    "\n",
    "import matplotlib.pyplot as plt\n",
    "import seaborn as sns\n",
    "from tqdm.notebook import tqdm\n",
    "%matplotlib inline\n",
    "\n",
    "import warnings\n",
    "warnings.filterwarnings(\"ignore\")"
   ]
  },
  {
   "cell_type": "code",
   "execution_count": 2,
   "metadata": {},
   "outputs": [],
   "source": [
    "anime_data = pd.read_csv(\"../data/animes.csv\")\n",
    "profile_data = pd.read_csv(\"../data/profiles.csv\")\n",
    "reviews_data = pd.read_csv(\"../data/ModifiedReviewsData.csv\")"
   ]
  },
  {
   "cell_type": "code",
   "execution_count": 3,
   "metadata": {},
   "outputs": [
    {
     "data": {
      "text/plain": [
       "(16216, 12)"
      ]
     },
     "execution_count": 3,
     "metadata": {},
     "output_type": "execute_result"
    }
   ],
   "source": [
    "anime_data = anime_data.drop_duplicates(subset = [\"uid\"]).reset_index(drop = True)\n",
    "anime_data.shape"
   ]
  },
  {
   "cell_type": "code",
   "execution_count": 4,
   "metadata": {},
   "outputs": [
    {
     "data": {
      "text/html": [
       "<div>\n",
       "<style scoped>\n",
       "    .dataframe tbody tr th:only-of-type {\n",
       "        vertical-align: middle;\n",
       "    }\n",
       "\n",
       "    .dataframe tbody tr th {\n",
       "        vertical-align: top;\n",
       "    }\n",
       "\n",
       "    .dataframe thead th {\n",
       "        text-align: right;\n",
       "    }\n",
       "</style>\n",
       "<table border=\"1\" class=\"dataframe\">\n",
       "  <thead>\n",
       "    <tr style=\"text-align: right;\">\n",
       "      <th></th>\n",
       "      <th>uid</th>\n",
       "      <th>title</th>\n",
       "      <th>synopsis</th>\n",
       "      <th>genre</th>\n",
       "      <th>aired</th>\n",
       "      <th>episodes</th>\n",
       "      <th>members</th>\n",
       "      <th>popularity</th>\n",
       "      <th>ranked</th>\n",
       "      <th>score</th>\n",
       "      <th>img_url</th>\n",
       "      <th>link</th>\n",
       "    </tr>\n",
       "  </thead>\n",
       "  <tbody>\n",
       "    <tr>\n",
       "      <th>0</th>\n",
       "      <td>28891</td>\n",
       "      <td>Haikyuu!! Second Season</td>\n",
       "      <td>Following their participation at the Inter-Hig...</td>\n",
       "      <td>['Comedy', 'Sports', 'Drama', 'School', 'Shoun...</td>\n",
       "      <td>Oct 4, 2015 to Mar 27, 2016</td>\n",
       "      <td>25.0</td>\n",
       "      <td>489888</td>\n",
       "      <td>141</td>\n",
       "      <td>25.0</td>\n",
       "      <td>8.82</td>\n",
       "      <td>https://cdn.myanimelist.net/images/anime/9/766...</td>\n",
       "      <td>https://myanimelist.net/anime/28891/Haikyuu_Se...</td>\n",
       "    </tr>\n",
       "    <tr>\n",
       "      <th>1</th>\n",
       "      <td>23273</td>\n",
       "      <td>Shigatsu wa Kimi no Uso</td>\n",
       "      <td>Music accompanies the path of the human metron...</td>\n",
       "      <td>['Drama', 'Music', 'Romance', 'School', 'Shoun...</td>\n",
       "      <td>Oct 10, 2014 to Mar 20, 2015</td>\n",
       "      <td>22.0</td>\n",
       "      <td>995473</td>\n",
       "      <td>28</td>\n",
       "      <td>24.0</td>\n",
       "      <td>8.83</td>\n",
       "      <td>https://cdn.myanimelist.net/images/anime/3/671...</td>\n",
       "      <td>https://myanimelist.net/anime/23273/Shigatsu_w...</td>\n",
       "    </tr>\n",
       "  </tbody>\n",
       "</table>\n",
       "</div>"
      ],
      "text/plain": [
       "     uid                    title  \\\n",
       "0  28891  Haikyuu!! Second Season   \n",
       "1  23273  Shigatsu wa Kimi no Uso   \n",
       "\n",
       "                                            synopsis  \\\n",
       "0  Following their participation at the Inter-Hig...   \n",
       "1  Music accompanies the path of the human metron...   \n",
       "\n",
       "                                               genre  \\\n",
       "0  ['Comedy', 'Sports', 'Drama', 'School', 'Shoun...   \n",
       "1  ['Drama', 'Music', 'Romance', 'School', 'Shoun...   \n",
       "\n",
       "                          aired  episodes  members  popularity  ranked  score  \\\n",
       "0   Oct 4, 2015 to Mar 27, 2016      25.0   489888         141    25.0   8.82   \n",
       "1  Oct 10, 2014 to Mar 20, 2015      22.0   995473          28    24.0   8.83   \n",
       "\n",
       "                                             img_url  \\\n",
       "0  https://cdn.myanimelist.net/images/anime/9/766...   \n",
       "1  https://cdn.myanimelist.net/images/anime/3/671...   \n",
       "\n",
       "                                                link  \n",
       "0  https://myanimelist.net/anime/28891/Haikyuu_Se...  \n",
       "1  https://myanimelist.net/anime/23273/Shigatsu_w...  "
      ]
     },
     "execution_count": 4,
     "metadata": {},
     "output_type": "execute_result"
    }
   ],
   "source": [
    "anime_data.head(2)"
   ]
  },
  {
   "cell_type": "markdown",
   "metadata": {},
   "source": [
    "As we see from the above dataframe, an anime has many different features. It has both it's own categorical and numerical features. It is up to us how to create the user profiles but they must be created in a smart way.\n",
    "\n",
    "The drawback with CB Filtering is that if we don't have a user profile for a given person, then it is not possible to serve them recommendations. And user profiles can only be created after the user has interacted with some if not all items."
   ]
  },
  {
   "cell_type": "markdown",
   "metadata": {},
   "source": [
    "Let's attempt this problem first by using the genre of an anime first and later introduce numerical features like episodes, members, score etc. to build a user profile."
   ]
  },
  {
   "cell_type": "markdown",
   "metadata": {},
   "source": [
    "# Anime-genre mapping matrix"
   ]
  },
  {
   "cell_type": "code",
   "execution_count": 5,
   "metadata": {},
   "outputs": [],
   "source": [
    "# Get a list of all the unique genres across all anime\n",
    "\n",
    "all_genre = []\n",
    "for genre in anime_data.genre:\n",
    "    all_genre.extend(eval(genre))\n",
    "all_genre = sorted(list(set(all_genre)))"
   ]
  },
  {
   "cell_type": "code",
   "execution_count": 6,
   "metadata": {},
   "outputs": [
    {
     "name": "stdout",
     "output_type": "stream",
     "text": [
      "There are a total of 43 genres:\n",
      "['Action', 'Adventure', 'Cars', 'Comedy', 'Dementia', 'Demons', 'Drama', 'Ecchi', 'Fantasy', 'Game', 'Harem', 'Hentai', 'Historical', 'Horror', 'Josei', 'Kids', 'Magic', 'Martial Arts', 'Mecha', 'Military', 'Music', 'Mystery', 'Parody', 'Police', 'Psychological', 'Romance', 'Samurai', 'School', 'Sci-Fi', 'Seinen', 'Shoujo', 'Shoujo Ai', 'Shounen', 'Shounen Ai', 'Slice of Life', 'Space', 'Sports', 'Super Power', 'Supernatural', 'Thriller', 'Vampire', 'Yaoi', 'Yuri']\n"
     ]
    }
   ],
   "source": [
    "print(f\"There are a total of {len(all_genre)} genres:\")\n",
    "print(all_genre)"
   ]
  },
  {
   "cell_type": "code",
   "execution_count": 7,
   "metadata": {},
   "outputs": [
    {
     "data": {
      "text/html": [
       "<div>\n",
       "<style scoped>\n",
       "    .dataframe tbody tr th:only-of-type {\n",
       "        vertical-align: middle;\n",
       "    }\n",
       "\n",
       "    .dataframe tbody tr th {\n",
       "        vertical-align: top;\n",
       "    }\n",
       "\n",
       "    .dataframe thead th {\n",
       "        text-align: right;\n",
       "    }\n",
       "</style>\n",
       "<table border=\"1\" class=\"dataframe\">\n",
       "  <thead>\n",
       "    <tr style=\"text-align: right;\">\n",
       "      <th></th>\n",
       "      <th>uid</th>\n",
       "      <th>title</th>\n",
       "      <th>n_genres</th>\n",
       "      <th>Action</th>\n",
       "      <th>Adventure</th>\n",
       "      <th>Cars</th>\n",
       "      <th>Comedy</th>\n",
       "      <th>Dementia</th>\n",
       "      <th>Demons</th>\n",
       "      <th>Drama</th>\n",
       "      <th>...</th>\n",
       "      <th>Shounen Ai</th>\n",
       "      <th>Slice of Life</th>\n",
       "      <th>Space</th>\n",
       "      <th>Sports</th>\n",
       "      <th>Super Power</th>\n",
       "      <th>Supernatural</th>\n",
       "      <th>Thriller</th>\n",
       "      <th>Vampire</th>\n",
       "      <th>Yaoi</th>\n",
       "      <th>Yuri</th>\n",
       "    </tr>\n",
       "  </thead>\n",
       "  <tbody>\n",
       "    <tr>\n",
       "      <th>0</th>\n",
       "      <td>28891</td>\n",
       "      <td>Haikyuu!! Second Season</td>\n",
       "      <td>5</td>\n",
       "      <td>0.0</td>\n",
       "      <td>0.0</td>\n",
       "      <td>0.0</td>\n",
       "      <td>0.447214</td>\n",
       "      <td>0.0</td>\n",
       "      <td>0.0</td>\n",
       "      <td>0.447214</td>\n",
       "      <td>...</td>\n",
       "      <td>0.0</td>\n",
       "      <td>0.0</td>\n",
       "      <td>0.0</td>\n",
       "      <td>0.447214</td>\n",
       "      <td>0.0</td>\n",
       "      <td>0.0</td>\n",
       "      <td>0.0</td>\n",
       "      <td>0.0</td>\n",
       "      <td>0.0</td>\n",
       "      <td>0.0</td>\n",
       "    </tr>\n",
       "    <tr>\n",
       "      <th>1</th>\n",
       "      <td>23273</td>\n",
       "      <td>Shigatsu wa Kimi no Uso</td>\n",
       "      <td>5</td>\n",
       "      <td>0.0</td>\n",
       "      <td>0.0</td>\n",
       "      <td>0.0</td>\n",
       "      <td>0.000000</td>\n",
       "      <td>0.0</td>\n",
       "      <td>0.0</td>\n",
       "      <td>0.447214</td>\n",
       "      <td>...</td>\n",
       "      <td>0.0</td>\n",
       "      <td>0.0</td>\n",
       "      <td>0.0</td>\n",
       "      <td>0.000000</td>\n",
       "      <td>0.0</td>\n",
       "      <td>0.0</td>\n",
       "      <td>0.0</td>\n",
       "      <td>0.0</td>\n",
       "      <td>0.0</td>\n",
       "      <td>0.0</td>\n",
       "    </tr>\n",
       "  </tbody>\n",
       "</table>\n",
       "<p>2 rows × 46 columns</p>\n",
       "</div>"
      ],
      "text/plain": [
       "     uid                    title  n_genres  Action  Adventure  Cars  \\\n",
       "0  28891  Haikyuu!! Second Season         5     0.0        0.0   0.0   \n",
       "1  23273  Shigatsu wa Kimi no Uso         5     0.0        0.0   0.0   \n",
       "\n",
       "     Comedy  Dementia  Demons     Drama  ...  Shounen Ai  Slice of Life  \\\n",
       "0  0.447214       0.0     0.0  0.447214  ...         0.0            0.0   \n",
       "1  0.000000       0.0     0.0  0.447214  ...         0.0            0.0   \n",
       "\n",
       "   Space    Sports  Super Power  Supernatural  Thriller  Vampire  Yaoi  Yuri  \n",
       "0    0.0  0.447214          0.0           0.0       0.0      0.0   0.0   0.0  \n",
       "1    0.0  0.000000          0.0           0.0       0.0      0.0   0.0   0.0  \n",
       "\n",
       "[2 rows x 46 columns]"
      ]
     },
     "execution_count": 7,
     "metadata": {},
     "output_type": "execute_result"
    }
   ],
   "source": [
    "# Create a container to hold all the anime -> genre mapping\n",
    "entries = []\n",
    "for row in anime_data[[\"uid\", \"title\", \"genre\"]].itertuples():\n",
    "    # Get the uid, title of anime and the list of genres it belongs to\n",
    "    uid = row[1]\n",
    "    title = row[2]\n",
    "    genres = eval(row[3])\n",
    "    \n",
    "    # Normalize the score across each row\n",
    "    \n",
    "    genre_map = [0] * len(all_genre)\n",
    "    \n",
    "    for genre in genres:\n",
    "    # Normalize the score across each row\n",
    "        genre_map[all_genre.index(genre)] = np.sqrt(1 / len(genres))\n",
    "    \n",
    "    entry = [uid, title] + [len(genres)] + genre_map\n",
    "    entries.append(entry)\n",
    "    \n",
    "# Create a dataframe of all the anime and it's respective genres\n",
    "anime_genre_map_df = pd.DataFrame(entries, columns = [\"uid\", \"title\", \"n_genres\"] + all_genre)\n",
    "anime_genre_map_df.head(2)"
   ]
  },
  {
   "cell_type": "code",
   "execution_count": 8,
   "metadata": {},
   "outputs": [
    {
     "data": {
      "text/plain": [
       "Action                  0\n",
       "Adventure               0\n",
       "Cars                    0\n",
       "Comedy           0.447214\n",
       "Dementia                0\n",
       "Demons                  0\n",
       "Drama            0.447214\n",
       "Ecchi                   0\n",
       "Fantasy                 0\n",
       "Game                    0\n",
       "Harem                   0\n",
       "Hentai                  0\n",
       "Historical              0\n",
       "Horror                  0\n",
       "Josei                   0\n",
       "Kids                    0\n",
       "Magic                   0\n",
       "Martial Arts            0\n",
       "Mecha                   0\n",
       "Military                0\n",
       "Music                   0\n",
       "Mystery                 0\n",
       "Parody                  0\n",
       "Police                  0\n",
       "Psychological           0\n",
       "Romance                 0\n",
       "Samurai                 0\n",
       "School           0.447214\n",
       "Sci-Fi                  0\n",
       "Seinen                  0\n",
       "Shoujo                  0\n",
       "Shoujo Ai               0\n",
       "Shounen          0.447214\n",
       "Shounen Ai              0\n",
       "Slice of Life           0\n",
       "Space                   0\n",
       "Sports           0.447214\n",
       "Super Power             0\n",
       "Supernatural            0\n",
       "Thriller                0\n",
       "Vampire                 0\n",
       "Yaoi                    0\n",
       "Yuri                    0\n",
       "Name: 0, dtype: object"
      ]
     },
     "execution_count": 8,
     "metadata": {},
     "output_type": "execute_result"
    }
   ],
   "source": [
    "# Have a look at the features which represent Haikhuu!! Second Season\n",
    "anime_genre_map_df.iloc[0, 3:]"
   ]
  },
  {
   "cell_type": "markdown",
   "metadata": {},
   "source": [
    "# Create a User Profile for every user"
   ]
  },
  {
   "cell_type": "code",
   "execution_count": 9,
   "metadata": {},
   "outputs": [],
   "source": [
    "def create_user_profile(user_df, anime_df, binary = False):\n",
    "    \n",
    "    # Iterate over all anime which the user has watched and their scores and add their representation\n",
    "    # Weighted by the score they gave in order to build a user profile of sorts.\n",
    "    \n",
    "    features_length = len(anime_df.columns[3:])\n",
    "    user_representation = np.zeros(features_length)\n",
    "\n",
    "    for row in user_df.itertuples():\n",
    "        anime_mapping = anime_df[anime_df.uid == row[2]].reset_index(drop = True).iloc[0, 3:].values\n",
    "        mean_score = row[3]\n",
    "        # If you want to binarize the output, you could do it by taking -1 for anime\n",
    "        # whose rating is below 5 and 1 for anime whose rating is above 5 (very simplistic)\n",
    "        if binary:\n",
    "            sc = 1 \n",
    "            if mean_score <=5: sc = -1\n",
    "            user_representation += np.array(anime_mapping, dtype = np.float) * sc\n",
    "        else:\n",
    "            user_representation += np.array(anime_mapping, dtype = np.float) * mean_score\n",
    "        \n",
    "    return user_representation"
   ]
  },
  {
   "cell_type": "code",
   "execution_count": 10,
   "metadata": {},
   "outputs": [
    {
     "data": {
      "application/vnd.jupyter.widget-view+json": {
       "model_id": "0550df2dd31d4689a2cad0b25034786c",
       "version_major": 2,
       "version_minor": 0
      },
      "text/plain": [
       "Extracting user profiles...:   0%|          | 0/130519 [00:00<?, ?it/s]"
      ]
     },
     "metadata": {},
     "output_type": "display_data"
    }
   ],
   "source": [
    "# Extract the user profiles using the function defined above\n",
    "users = reviews_data.uid.unique()\n",
    "user_profiles = {}\n",
    "\n",
    "for user in tqdm(users, desc = \"Extracting user profiles...\"):\n",
    "    user_df = reviews_data[reviews_data.uid == user].reset_index(drop = True)\n",
    "    user_profiles[user] = create_user_profile(user_df, anime_genre_map_df)"
   ]
  },
  {
   "cell_type": "markdown",
   "metadata": {},
   "source": [
    "# Recommend anime to any given user"
   ]
  },
  {
   "cell_type": "code",
   "execution_count": 11,
   "metadata": {},
   "outputs": [],
   "source": [
    "def recommend_anime(user_profile, anime_df):\n",
    "    # Get a list of all the anime representations\n",
    "    anime_representations = anime_df.iloc[:, 3:].values\n",
    "    anime_names = list(anime_df.title)\n",
    "    \n",
    "    # Compute the dot products for every user-item combination (single user but all items)\n",
    "    similarities = []\n",
    "    for anime in tqdm(anime_representations, desc = \"Getting similarity measures\"):\n",
    "        similarities.append(np.dot(user_profile, anime))\n",
    "    \n",
    "    # Sort by similarity and get top 10 anime recommendations for this user\n",
    "    ordered_sims = np.array(similarities).argsort()[-10:][::-1]\n",
    "    \n",
    "    similar_animes = [anime_names[x] for x in ordered_sims]\n",
    "    return (similar_animes, [similarities[x] for x in ordered_sims])"
   ]
  },
  {
   "cell_type": "code",
   "execution_count": 12,
   "metadata": {},
   "outputs": [],
   "source": [
    "all_users = list(user_profiles.keys())"
   ]
  },
  {
   "cell_type": "code",
   "execution_count": 47,
   "metadata": {},
   "outputs": [
    {
     "data": {
      "text/html": [
       "<div>\n",
       "<style scoped>\n",
       "    .dataframe tbody tr th:only-of-type {\n",
       "        vertical-align: middle;\n",
       "    }\n",
       "\n",
       "    .dataframe tbody tr th {\n",
       "        vertical-align: top;\n",
       "    }\n",
       "\n",
       "    .dataframe thead th {\n",
       "        text-align: right;\n",
       "    }\n",
       "</style>\n",
       "<table border=\"1\" class=\"dataframe\">\n",
       "  <thead>\n",
       "    <tr style=\"text-align: right;\">\n",
       "      <th></th>\n",
       "      <th>uid</th>\n",
       "      <th>anime_uid</th>\n",
       "      <th>Mean_score</th>\n",
       "    </tr>\n",
       "  </thead>\n",
       "  <tbody>\n",
       "    <tr>\n",
       "      <th>0</th>\n",
       "      <td>300971</td>\n",
       "      <td>37779</td>\n",
       "      <td>10</td>\n",
       "    </tr>\n",
       "  </tbody>\n",
       "</table>\n",
       "</div>"
      ],
      "text/plain": [
       "      uid  anime_uid  Mean_score\n",
       "0  300971      37779          10"
      ]
     },
     "execution_count": 47,
     "metadata": {},
     "output_type": "execute_result"
    }
   ],
   "source": [
    "# Sample a random user and look at the anime which he has rated\n",
    "random_user = random.sample(all_users, 1)[0]\n",
    "\n",
    "random_user_review = reviews_data[reviews_data.uid == random_user].reset_index(drop = True)\n",
    "random_user_review"
   ]
  },
  {
   "cell_type": "code",
   "execution_count": 48,
   "metadata": {},
   "outputs": [
    {
     "data": {
      "application/vnd.jupyter.widget-view+json": {
       "model_id": "9a04ba20d68b4bca826d24f5808fc29c",
       "version_major": 2,
       "version_minor": 0
      },
      "text/plain": [
       "Getting similarity measures:   0%|          | 0/16216 [00:00<?, ?it/s]"
      ]
     },
     "metadata": {},
     "output_type": "display_data"
    },
    {
     "name": "stdout",
     "output_type": "stream",
     "text": [
      "(['Yakusoku no Neverland', 'Yakusoku no Neverland 2nd Season', 'Higurashi no Naku Koro ni Kaku: Outbreak', 'Darkside Blues', 'Karakurizoushi Ayatsuri Sakon', 'Duan Nao 2', 'Paprika', 'Zankyou no Terror', 'Boogiepop wa Warawanai (2019)', 'Duan Nao'], [10.0, 9.128709291752768, 8.16496580927726, 8.16496580927726, 8.16496580927726, 8.16496580927726, 7.715167498104595, 7.0710678118654755, 7.0710678118654755, 7.0710678118654755])\n"
     ]
    }
   ],
   "source": [
    "# Look at the recommendations which our engine is building\n",
    "anime_recos = recommend_anime(user_profiles[random_user], anime_genre_map_df)\n",
    "print(anime_recos)"
   ]
  },
  {
   "cell_type": "markdown",
   "metadata": {},
   "source": [
    "A very important point to note here is that since the dataset contains data (users) which has only been rated once, that means we can't really draw conclusion about the liked movies when the user interaction has been below average or below par.\n",
    "\n",
    "Since we have no idea about the liking of a user, we cannot recommend anything suitable with this simplistic model as we're not capturing concept relations like `comedy` might be opposite of `serious/thriller` etc."
   ]
  },
  {
   "cell_type": "markdown",
   "metadata": {},
   "source": [
    "# Adding numerical features into the mix\n",
    "\n",
    "Every anime has some numerical features like episodes and average score for that anime. We can also factor in these as features in the representation of an anime feature vector.\n",
    "\n",
    "But we shall normalize these before we do any kind of analysis because our genre features have been enforced in the `[0, 1]` range. And if we don't follow that convention, inadvertantly features which have a larger variance will get more preference; so we will `Normalize` them to restrict them in a 0-1 range.\n",
    "\n",
    "Also, note that these could be good features since `episodes` gives a overview of how long/short a series is or if an anime is a moview or a series etc. and `score` gives an idea about the overall majority vote for the anime."
   ]
  },
  {
   "cell_type": "markdown",
   "metadata": {},
   "source": [
    "We can see that there's around `341 anime` with unknown scores and close to `492 anime` with unknown number of episodes. Considering that it's a very small fraction of our dataset `(<5%)`, we can mean impute these values since they're needed for the analysis."
   ]
  },
  {
   "cell_type": "code",
   "execution_count": 36,
   "metadata": {},
   "outputs": [],
   "source": [
    "anime_data[\"episodes\"] = anime_data[\"episodes\"].fillna(np.mean(anime_data[\"episodes\"]))\n",
    "anime_data[\"score\"] = anime_data[\"score\"].fillna(np.mean(anime_data[\"score\"]))"
   ]
  },
  {
   "cell_type": "code",
   "execution_count": 37,
   "metadata": {},
   "outputs": [
    {
     "data": {
      "text/html": [
       "<div>\n",
       "<style scoped>\n",
       "    .dataframe tbody tr th:only-of-type {\n",
       "        vertical-align: middle;\n",
       "    }\n",
       "\n",
       "    .dataframe tbody tr th {\n",
       "        vertical-align: top;\n",
       "    }\n",
       "\n",
       "    .dataframe thead th {\n",
       "        text-align: right;\n",
       "    }\n",
       "</style>\n",
       "<table border=\"1\" class=\"dataframe\">\n",
       "  <thead>\n",
       "    <tr style=\"text-align: right;\">\n",
       "      <th></th>\n",
       "      <th>title</th>\n",
       "      <th>episodes</th>\n",
       "      <th>score</th>\n",
       "    </tr>\n",
       "  </thead>\n",
       "  <tbody>\n",
       "    <tr>\n",
       "      <th>0</th>\n",
       "      <td>Haikyuu!! Second Season</td>\n",
       "      <td>0.008178</td>\n",
       "      <td>0.000886</td>\n",
       "    </tr>\n",
       "    <tr>\n",
       "      <th>1</th>\n",
       "      <td>Shigatsu wa Kimi no Uso</td>\n",
       "      <td>0.007197</td>\n",
       "      <td>0.000780</td>\n",
       "    </tr>\n",
       "  </tbody>\n",
       "</table>\n",
       "</div>"
      ],
      "text/plain": [
       "                     title  episodes     score\n",
       "0  Haikyuu!! Second Season  0.008178  0.000886\n",
       "1  Shigatsu wa Kimi no Uso  0.007197  0.000780"
      ]
     },
     "execution_count": 37,
     "metadata": {},
     "output_type": "execute_result"
    }
   ],
   "source": [
    "numerical_df = anime_data[[\"title\", \"episodes\", \"score\"]]\n",
    "numerical_df[\"episodes\"] = numerical_df.episodes / np.max(numerical_df.episodes)\n",
    "numerical_df[\"score\"] = numerical_df.episodes / np.max(numerical_df.score)\n",
    "numerical_df.head(2)"
   ]
  },
  {
   "cell_type": "code",
   "execution_count": 38,
   "metadata": {},
   "outputs": [],
   "source": [
    "anime_genre_numerical_map_df = pd.merge(anime_genre_map_df, numerical_df, on = \"title\", how = \"inner\")"
   ]
  },
  {
   "cell_type": "code",
   "execution_count": 39,
   "metadata": {},
   "outputs": [
    {
     "data": {
      "application/vnd.jupyter.widget-view+json": {
       "model_id": "0077044fbd9d463588d832ff4b5cd550",
       "version_major": 2,
       "version_minor": 0
      },
      "text/plain": [
       "Extracting user profiles...:   0%|          | 0/130519 [00:00<?, ?it/s]"
      ]
     },
     "metadata": {},
     "output_type": "display_data"
    }
   ],
   "source": [
    "users = reviews_data.uid.unique()\n",
    "num_genre_user_profiles = {}\n",
    "\n",
    "for user in tqdm(users, desc = \"Extracting user profiles...\"):\n",
    "    user_df = reviews_data[reviews_data.uid == user].reset_index(drop = True)\n",
    "    num_genre_user_profiles[user] = create_user_profile(user_df, anime_genre_numerical_map_df)"
   ]
  },
  {
   "cell_type": "code",
   "execution_count": 49,
   "metadata": {},
   "outputs": [
    {
     "data": {
      "application/vnd.jupyter.widget-view+json": {
       "model_id": "a4f71d4832814788b6ee33f590bded37",
       "version_major": 2,
       "version_minor": 0
      },
      "text/plain": [
       "Getting similarity measures:   0%|          | 0/16220 [00:00<?, ?it/s]"
      ]
     },
     "metadata": {},
     "output_type": "display_data"
    },
    {
     "name": "stdout",
     "output_type": "stream",
     "text": [
      "(['Yakusoku no Neverland', 'Yakusoku no Neverland 2nd Season', 'Karakurizoushi Ayatsuri Sakon', 'Duan Nao 2', 'Higurashi no Naku Koro ni Kaku: Outbreak', 'Darkside Blues', 'Paprika', 'Ergo Proxy', 'Boogiepop wa Warawanai (2019)', 'Duan Nao'], [10.000155897699143, 9.128860746043609, 8.165303587625404, 8.1651172635681, 8.16497880075219, 8.16497880075219, 7.715180489579523, 7.071366615788833, 7.07130165841419, 7.071275675464333])\n"
     ]
    }
   ],
   "source": [
    "# Look at the recommendations which our engine is building\n",
    "anime_recos = recommend_anime(num_genre_user_profiles[random_user], anime_genre_numerical_map_df)\n",
    "print(anime_recos)"
   ]
  }
 ],
 "metadata": {
  "kernelspec": {
   "display_name": "Python [conda env:okkular] *",
   "language": "python",
   "name": "conda-env-okkular-py"
  },
  "language_info": {
   "codemirror_mode": {
    "name": "ipython",
    "version": 3
   },
   "file_extension": ".py",
   "mimetype": "text/x-python",
   "name": "python",
   "nbconvert_exporter": "python",
   "pygments_lexer": "ipython3",
   "version": "3.6.10"
  },
  "latex_envs": {
   "LaTeX_envs_menu_present": true,
   "autoclose": false,
   "autocomplete": true,
   "bibliofile": "biblio.bib",
   "cite_by": "apalike",
   "current_citInitial": 1,
   "eqLabelWithNumbers": true,
   "eqNumInitial": 1,
   "hotkeys": {
    "equation": "Ctrl-E",
    "itemize": "Ctrl-I"
   },
   "labels_anchors": false,
   "latex_user_defs": false,
   "report_style_numbering": false,
   "user_envs_cfg": false
  }
 },
 "nbformat": 4,
 "nbformat_minor": 4
}
